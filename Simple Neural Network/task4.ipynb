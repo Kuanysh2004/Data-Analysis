{
  "cells": [
    {
      "cell_type": "markdown",
      "metadata": {
        "id": "Kb_PVxXaW2Qy"
      },
      "source": [
        "# <a href=\"https://miptstats.github.io/courses/ad_fivt.html\">Введение в анализ данных</a>\n",
        "## Домашнее задание 4. Нейронные сети.\n"
      ]
    },
    {
      "cell_type": "markdown",
      "metadata": {
        "id": "duMi1QifW2Qz"
      },
      "source": [
        "**Правила, <font color=\"red\">прочитайте внимательно</font>:**\n",
        "\n",
        "* Выполненную работу нужно отправить телеграм-боту `@miptstats_ds24_bot`. Для начала работы с ботом каждый раз отправляйте `/start`. **Работы, присланные иным способом, не принимаются.**\n",
        "* Дедлайн см. в боте. После дедлайна работы не принимаются кроме случаев наличия уважительной причины.\n",
        "* Прислать нужно **ноутбук в формате `ipynb`**.\n",
        "* Следите за размером файлов. **Бот не может принимать файлы весом более 20 Мб.** Если файл получается больше, заранее разделите его на несколько.\n",
        "* Выполнять задание необходимо полностью самостоятельно. **При обнаружении списывания все участники списывания будут сдавать устный зачет.**\n",
        "* Решения, размещенные на каких-либо интернет-ресурсах, не принимаются. Кроме того, публикация решения в открытом доступе может быть приравнена к предоставлении возможности списать.\n",
        "* Для выполнения задания используйте этот ноутбук в качестве основы, ничего не удаляя из него. Можно добавлять необходимое количество ячеек.\n",
        "* Комментарии к решению пишите в markdown-ячейках.\n",
        "* Выполнение задания (ход решения, выводы и пр.) должно быть осуществлено на русском языке.\n",
        "* Если код будет не понятен проверяющему, оценка может быть снижена.\n",
        "* Никакой код из данного задания при проверке запускаться не будет. *Если код студента не выполнен, недописан и т.д., то он не оценивается.*\n",
        "\n",
        "**Правила оформления теоретических задач:**\n",
        "\n",
        "* Решения необходимо прислать одним из следующих способов:\n",
        "  * фотографией в правильной ориентации, где все четко видно, а почерк разборчив,\n",
        "    * отправив ее как файл боту вместе с ноутбуком *или*\n",
        "    * вставив ее в ноутбук посредством `Edit -> Insert Image`;\n",
        "  * в виде $LaTeX$ в markdown-ячейках.\n",
        "* Решения не проверяются, если какое-то требование не выполнено. Особенно внимательно все проверьте в случае выбора второго пункта (вставки фото в ноутбук). <font color=\"red\"><b>Неправильно вставленные фотографии могут не передаться при отправке.</b></font> Для проверки попробуйте переместить `ipynb` в другую папку и открыть его там.\n",
        "* В решениях поясняйте, чем вы пользуетесь, хотя бы кратко. Например, если пользуетесь независимостью, то достаточно подписи вида \"*X и Y незав.*\"\n",
        "* Решение, в котором есть только ответ, и отсутствуют вычисления, оценивается в 0 баллов.\n",
        "\n",
        "\n",
        "\n",
        "\n",
        "\n",
        "**Баллы за задание:**\n",
        "\n",
        "<b><font color=\"blue\">Легкая часть</font></b> (достаточно на \"хор\"):\n",
        "* Задача 1 &mdash; 60 баллов\n",
        "* Задача 2 &mdash; 30 баллов\n",
        "\n",
        "<b><font color=\"orange\">Сложная часть</font></b> (необходимо на \"отл\"):\n",
        "* Задача 3 &mdash; 60 баллов\n"
      ]
    },
    {
      "cell_type": "code",
      "execution_count": 173,
      "metadata": {
        "id": "pWZ4wmCvW2Q0"
      },
      "outputs": [],
      "source": [
        "# Bot check\n",
        "\n",
        "# HW_ID: fpmi_ad4\n",
        "# Бот проверит этот ID и предупредит, если случайно сдать что-то не то.\n",
        "\n",
        "# Status: final\n",
        "# Перед отправкой в финальном решении удали \"not\" в строчке выше.\n",
        "# Так бот проверит, что ты отправляешь финальную версию, а не промежуточную.\n",
        "# Никакие значения в этой ячейке не влияют на факт сдачи работы."
      ]
    },
    {
      "cell_type": "code",
      "execution_count": 174,
      "metadata": {
        "id": "ht9Xm0EucoAr"
      },
      "outputs": [],
      "source": [
        "import numpy as np\n",
        "import scipy.stats as sps\n",
        "\n",
        "import matplotlib.pyplot as plt\n",
        "import seaborn as sns\n",
        "\n",
        "import torch\n",
        "import torch.nn as nn\n",
        "\n",
        "from sklearn.linear_model import LinearRegression\n",
        "from sklearn.metrics import mean_squared_error\n",
        "\n",
        "sns.set(font_scale=1.2, palette='Set2')\n",
        "%matplotlib inline"
      ]
    },
    {
      "cell_type": "markdown",
      "metadata": {
        "id": "2M__0kK2W2Q1"
      },
      "source": [
        "Перед выполнением задания обязательно посмотрите <a href=\"https://miptstats.github.io/courses/ad_fivt/lecture4.pdf\" target=\"_blank\">презентацию</a> и <a href=\"https://miptstats.github.io/courses/ad_fivt/nn_simple_examples.html\" target=\"_blank\">обучающий ноутбук</a> с занятия по нейронным сетям."
      ]
    },
    {
      "cell_type": "markdown",
      "metadata": {
        "id": "NtWewpfoLl5S"
      },
      "source": [
        "---\n",
        "### <font color=\"blue\"><i>Легкая часть</i></font>"
      ]
    },
    {
      "cell_type": "markdown",
      "metadata": {
        "id": "x-9Z1rmVW2Q1"
      },
      "source": [
        "---\n",
        "### Задача 1.\n",
        "\n",
        "Рассмотрим двухслойную нейронную сеть, которая принимает на вход $x\\in\\mathbb{R}$ и возвращает $y\\in\\mathbb{R}$. Выход первого слоя возвращает $u \\in\\mathbb{R}^2$. После первого слоя используется функция активации $\\sigma(x) = \\frac{1}{1 + \\exp(-x)}$, после второго слоя функция активации не используется (или используется тождественная). Тем самым нашу нейронную можно представить в виде\n",
        "\n",
        "$$\\widehat{y}(x) = \\sum_{h=1}^2 w_{2h}u_h(x) + b_2,$$\n",
        "\n",
        "$$u_h(x) = \\sigma(w_{1h}x + b_{1h}),$$\n",
        "\n",
        "$$\\text{где} \\; h \\in \\{1, 2\\}.$$\n",
        "\n"
      ]
    },
    {
      "cell_type": "markdown",
      "metadata": {
        "id": "4eii8MGZW2Q1"
      },
      "source": [
        "**1.** Нарисуйте схематически данную нейронную сеть. Сколько у нее обучаемых параметров?"
      ]
    },
    {
      "cell_type": "markdown",
      "metadata": {
        "id": "REawtgDJW2Q1"
      },
      "source": [
        "..."
      ]
    },
    {
      "cell_type": "markdown",
      "metadata": {
        "id": "b8DZXIx7W2Q2"
      },
      "source": [
        "**2.** Пусть нам дана обучающая выборка $(X_1, Y_1), ..., (X_n, Y_n)$, где $X_i \\in \\mathbb{R}$ и $Y_i \\in \\mathbb{R}$. Нейронная сеть обучается по этой выборке, минимизируя заданную функцию $L$ &mdash; функцию ошибки. Положим, что $L$ &mdash; это MSE:\n",
        "$$\\text{MSE} = L(X, Y) = \\frac{1}{n}\\sum_{i=1}^n \\big(Y_i - \\widehat{y}(X_i)\\big)^2.$$\n",
        "\n",
        "Наша задача &mdash; найти оптимальные параметры нашей модели для минимизации $L(X, Y)$ на заданном наборе данных. Мы будем решать эту задачу с помощью градиентного спуска. Для этого нам понадобится выписать производные по всем параметрам сети. Конечно, в данном случае довольно просто выписать все производные напрямую. Однако мы воспользуемся следующей хитростью: мы будем считать производные поэтапно, причем начнем с конца вычислительной цепочки и, используя формулу производной сложной функции, последовательно посчитаем все необходимые производные. Этот процесс называется методом **обратного распространения ошибки (backpropagation)**."
      ]
    },
    {
      "cell_type": "markdown",
      "metadata": {
        "id": "sns2ZZArW2Q2"
      },
      "source": [
        "**2.1.** Начнем с производной MSE по выходам сети\n",
        "$$\\frac{\\partial\\:\\text{MSE}}{\\partial \\widehat{y}(X_i)} = \\; ...$$"
      ]
    },
    {
      "cell_type": "markdown",
      "metadata": {
        "id": "mN2TO-MAW2Q2"
      },
      "source": [
        "**2.2** Возьмем производные выходов сети по параметрам последнего слоя\n",
        "\n",
        "$$\\frac{\\partial \\widehat{y}(X_i)}{\\partial w_{2h}} = \\; ...$$\n",
        "\n",
        "$$\\frac{\\partial \\widehat{y}(X_i)}{\\partial b_2} = \\; ...$$\n",
        "\n",
        "Также выпишем производные выходов сети по входам последнего слоя\n",
        "\n",
        "$$\\frac{\\partial \\widehat{y}(X_i)}{\\partial u_h(X_i)} = \\; ...$$\n",
        "\n",
        "Теперь выпишем производные MSE по параметрам и входам последнего слоя. Для этого вспомните правило производной сложной функции из математического анализа. Обратите внимание на то, что нам не нужно прописывать все производные до конца, достаточно заполнить пропуски в записи ниже:\n",
        "\n",
        "$$\\frac{\\partial\\:\\text{MSE}}{\\partial w_{2h}} = \\sum_{i=1}^n \\frac{\\partial\\:\\text{MSE}}{\\partial ...} \\frac{\\partial ...}{\\partial w_{2h}}$$\n",
        "\n",
        "$$\\frac{\\partial\\:\\text{MSE}}{\\partial b_2} = \\sum_{i=1}^n \\frac{\\partial\\:\\text{MSE}}{\\partial ...} \\frac{\\partial ...}{\\partial b_2}$$\n",
        "\n",
        "$$\\frac{\\partial\\:\\text{MSE}}{\\partial u_h} = \\sum_{i=1}^n \\frac{\\partial\\:\\text{MSE}}{\\partial ...} \\frac{\\partial ...}{\\partial u_h}$$"
      ]
    },
    {
      "cell_type": "markdown",
      "metadata": {
        "id": "u4_alAF5W2Q2"
      },
      "source": [
        "**2.2.** Теперь будем разбираться с производными по параметрам первого слоя.\n",
        "\n",
        "Для начала нам пригодится производная функции активации, запишите ее так, чтобы ответе осталась функция от $\\sigma(x)$\n",
        "\n",
        "$$\\frac{\\partial\\:\\sigma(x)}{\\partial x} = \\; ...$$\n",
        "\n",
        "Теперь возьмем производные выходов первого слоя по его параметрам\n",
        "\n",
        "$$\\frac{\\partial u_h(X_i)}{\\partial w_{1h}} = \\; ...$$\n",
        "\n",
        "$$\\frac{\\partial u_h(X_i)}{\\partial b_{1h}} = \\; ...$$\n",
        "\n",
        "Наконец, выпишем производные MSE по параметрам первого слоя. Так же как и раньше достаточно заполнить пропуски в записи ниже\n",
        "\n",
        "$$\\frac{\\partial\\:\\text{MSE}}{\\partial w_{1h}} = \\; \\sum_{i=1}^n \\frac{\\partial\\:\\text{MSE}}{\\partial ...} \\frac{\\partial ...}{\\partial w_{1h}}$$\n",
        "\n",
        "$$\\frac{\\partial\\:\\text{MSE}}{\\partial b_{1h}} = \\; \\sum_{i=1}^n \\frac{\\partial\\:\\text{MSE}}{\\partial ...} \\frac{\\partial ...}{\\partial b_{1h}}$$"
      ]
    },
    {
      "cell_type": "markdown",
      "metadata": {
        "id": "T9TejlitW2Q2"
      },
      "source": [
        "**3.** Пусть обучающая выборка очень большая. Что нужно делать в таком случае? Запишите, как нужно поменять правило обновления параметров.\n",
        "\n",
        "..."
      ]
    },
    {
      "cell_type": "markdown",
      "metadata": {
        "id": "a_EvDaB7W2Q2"
      },
      "source": [
        "**Вывод:** будет в пдф файле с решением 1-ой задачи"
      ]
    },
    {
      "cell_type": "markdown",
      "metadata": {
        "id": "hwaX8xRXW2Q3"
      },
      "source": [
        "---\n",
        "### Задача 2.\n",
        "\n",
        "Напишите нейронную сеть из задачи 1 с помощью библиотеки `pytorch`, используя Sequential-стиль. Перед выполнением задачи рекомендуется посмотреть <a href=\"https://miptstats.github.io/courses/ad_fivt/nn_simple_examples.html#3.-Готовые-модули-из-PyTorch\" target=\"_blank\">ноутбук</a> с занятия. Функция активации реализована как `torch.nn.Sigmoid`.\n",
        "\n",
        "*Внимание.* Для выполнения задачи потребуется установить библиотеку `pytorch`. Альтернативный вариант &mdash; выполнение в <a href=\"https://colab.research.google.com\" target=\"_blank\">Google Colab</a>. Учитывайте, что при длительном бездействии Colab может сам завершить работу ядра."
      ]
    },
    {
      "cell_type": "code",
      "execution_count": 175,
      "metadata": {
        "id": "R03tSHFoW2Q4"
      },
      "outputs": [],
      "source": [
        "# Определение модели\n",
        "class TwoLayerNN(nn.Module):\n",
        "    def __init__(self):\n",
        "        super(TwoLayerNN, self).__init__()\n",
        "        self.layer_1 = nn.Sequential(\n",
        "            nn.Linear(in_features=1, out_features=2),  # кол-во нейронов во входном слое 1, в выходном 2\n",
        "            nn.Sigmoid()      # Функция активации: Sigmoid\n",
        "        )\n",
        "        self.layer_2 = nn.Linear(in_features=2, out_features=1)  # Выходной слой: 1 нейрон (без функции активации)\n",
        "\n",
        "    def forward(self, x):  # чтобы знать в какой очередностью применять слои при обучении\n",
        "        x = self.layer_1(x)\n",
        "        x = self.layer_2(x)\n",
        "        return x\n",
        "\n"
      ]
    },
    {
      "cell_type": "markdown",
      "metadata": {
        "id": "t1_H2ptPW2Q3"
      },
      "source": [
        "Сгенерируем данные. Возьмите какую-либо нелинейную функцию $y(x)$."
      ]
    },
    {
      "cell_type": "code",
      "execution_count": 176,
      "metadata": {},
      "outputs": [],
      "source": [
        "from sklearn.model_selection import train_test_split"
      ]
    },
    {
      "cell_type": "code",
      "execution_count": 177,
      "metadata": {
        "id": "nIB7KwUMW2Q3"
      },
      "outputs": [],
      "source": [
        "sample_size = int(1e6)\n",
        "X = sps.norm.rvs(size=(sample_size, 1))\n",
        "\n",
        "y = np.squeeze(X*X)  # используем квадрат, используем squeeze чтобы сделать у 1 мерным\n",
        "\n",
        "# Разделяем данные на тренировочную и тестовую выборки\n",
        "X_train, X_test, y_train, y_test = train_test_split(X, y, test_size=0.3, random_state=19)\n",
        "\n",
        "assert y.shape == (sample_size,)\n"
      ]
    },
    {
      "cell_type": "markdown",
      "metadata": {
        "id": "JLhEEGwOW2Q4"
      },
      "source": [
        "Обучите нейросеть на этих данных. Используйте код с занятия."
      ]
    },
    {
      "cell_type": "code",
      "execution_count": 178,
      "metadata": {},
      "outputs": [],
      "source": [
        "import torch.optim as optim"
      ]
    },
    {
      "cell_type": "code",
      "execution_count": 179,
      "metadata": {},
      "outputs": [],
      "source": [
        "# Гиперпараметры\n",
        "learning_rate = 0.05\n",
        "epochs = 10000"
      ]
    },
    {
      "cell_type": "code",
      "execution_count": 180,
      "metadata": {},
      "outputs": [],
      "source": [
        "# Преобразование в тензоры PyTorch\n",
        "X_tensor_train = torch.tensor(X_train, dtype=torch.float32)\n",
        "y_tensor_train = torch.tensor(y_train, dtype=torch.float32)\n",
        "\n",
        "x_new_train = X_tensor_train.reshape(-1, 1)\n",
        "y_new_train = y_tensor_train.reshape(-1, 1)"
      ]
    },
    {
      "cell_type": "code",
      "execution_count": 181,
      "metadata": {
        "id": "TGAZcfvNW2Q4"
      },
      "outputs": [],
      "source": [
        "# Создание модели и оптимизатора\n",
        "model = TwoLayerNN()\n",
        "optim_func = nn.MSELoss()\n",
        "optimizer = optim.SGD(model.parameters(), lr=learning_rate)\n"
      ]
    },
    {
      "cell_type": "code",
      "execution_count": 182,
      "metadata": {},
      "outputs": [
        {
          "name": "stdout",
          "output_type": "stream",
          "text": [
            "Эпоха [100/10000], Loss: 1.9322\n",
            "Эпоха [200/10000], Loss: 1.8314\n",
            "Эпоха [300/10000], Loss: 1.7000\n",
            "Эпоха [400/10000], Loss: 1.5421\n",
            "Эпоха [500/10000], Loss: 1.3226\n",
            "Эпоха [600/10000], Loss: 1.0010\n",
            "Эпоха [700/10000], Loss: 0.7063\n",
            "Эпоха [800/10000], Loss: 0.5138\n",
            "Эпоха [900/10000], Loss: 0.3934\n",
            "Эпоха [1000/10000], Loss: 0.3143\n",
            "Эпоха [1100/10000], Loss: 0.2598\n",
            "Эпоха [1200/10000], Loss: 0.2208\n",
            "Эпоха [1300/10000], Loss: 0.1921\n",
            "Эпоха [1400/10000], Loss: 0.1703\n",
            "Эпоха [1500/10000], Loss: 0.1535\n",
            "Эпоха [1600/10000], Loss: 0.1402\n",
            "Эпоха [1700/10000], Loss: 0.1296\n",
            "Эпоха [1800/10000], Loss: 0.1209\n",
            "Эпоха [1900/10000], Loss: 0.1136\n",
            "Эпоха [2000/10000], Loss: 0.1076\n",
            "Эпоха [2100/10000], Loss: 0.1024\n",
            "Эпоха [2200/10000], Loss: 0.0980\n",
            "Эпоха [2300/10000], Loss: 0.0941\n",
            "Эпоха [2400/10000], Loss: 0.0906\n",
            "Эпоха [2500/10000], Loss: 0.0876\n",
            "Эпоха [2600/10000], Loss: 0.0848\n",
            "Эпоха [2700/10000], Loss: 0.0824\n",
            "Эпоха [2800/10000], Loss: 0.0801\n",
            "Эпоха [2900/10000], Loss: 0.0780\n",
            "Эпоха [3000/10000], Loss: 0.0761\n",
            "Эпоха [3100/10000], Loss: 0.0742\n",
            "Эпоха [3200/10000], Loss: 0.0726\n",
            "Эпоха [3300/10000], Loss: 0.0710\n",
            "Эпоха [3400/10000], Loss: 0.0695\n",
            "Эпоха [3500/10000], Loss: 0.0681\n",
            "Эпоха [3600/10000], Loss: 0.0667\n",
            "Эпоха [3700/10000], Loss: 0.0654\n",
            "Эпоха [3800/10000], Loss: 0.0642\n",
            "Эпоха [3900/10000], Loss: 0.0631\n",
            "Эпоха [4000/10000], Loss: 0.0619\n",
            "Эпоха [4100/10000], Loss: 0.0609\n",
            "Эпоха [4200/10000], Loss: 0.0598\n",
            "Эпоха [4300/10000], Loss: 0.0588\n",
            "Эпоха [4400/10000], Loss: 0.0579\n",
            "Эпоха [4500/10000], Loss: 0.0570\n",
            "Эпоха [4600/10000], Loss: 0.0561\n",
            "Эпоха [4700/10000], Loss: 0.0552\n",
            "Эпоха [4800/10000], Loss: 0.0544\n",
            "Эпоха [4900/10000], Loss: 0.0536\n",
            "Эпоха [5000/10000], Loss: 0.0528\n",
            "Эпоха [5100/10000], Loss: 0.0520\n",
            "Эпоха [5200/10000], Loss: 0.0513\n",
            "Эпоха [5300/10000], Loss: 0.0506\n",
            "Эпоха [5400/10000], Loss: 0.0499\n",
            "Эпоха [5500/10000], Loss: 0.0492\n",
            "Эпоха [5600/10000], Loss: 0.0486\n",
            "Эпоха [5700/10000], Loss: 0.0480\n",
            "Эпоха [5800/10000], Loss: 0.0474\n",
            "Эпоха [5900/10000], Loss: 0.0468\n",
            "Эпоха [6000/10000], Loss: 0.0462\n",
            "Эпоха [6100/10000], Loss: 0.0456\n",
            "Эпоха [6200/10000], Loss: 0.0451\n",
            "Эпоха [6300/10000], Loss: 0.0446\n",
            "Эпоха [6400/10000], Loss: 0.0440\n",
            "Эпоха [6500/10000], Loss: 0.0435\n",
            "Эпоха [6600/10000], Loss: 0.0430\n",
            "Эпоха [6700/10000], Loss: 0.0426\n",
            "Эпоха [6800/10000], Loss: 0.0421\n",
            "Эпоха [6900/10000], Loss: 0.0416\n",
            "Эпоха [7000/10000], Loss: 0.0412\n",
            "Эпоха [7100/10000], Loss: 0.0408\n",
            "Эпоха [7200/10000], Loss: 0.0403\n",
            "Эпоха [7300/10000], Loss: 0.0399\n",
            "Эпоха [7400/10000], Loss: 0.0395\n",
            "Эпоха [7500/10000], Loss: 0.0391\n",
            "Эпоха [7600/10000], Loss: 0.0387\n",
            "Эпоха [7700/10000], Loss: 0.0384\n",
            "Эпоха [7800/10000], Loss: 0.0380\n",
            "Эпоха [7900/10000], Loss: 0.0376\n",
            "Эпоха [8000/10000], Loss: 0.0373\n",
            "Эпоха [8100/10000], Loss: 0.0369\n",
            "Эпоха [8200/10000], Loss: 0.0366\n",
            "Эпоха [8300/10000], Loss: 0.0363\n",
            "Эпоха [8400/10000], Loss: 0.0360\n",
            "Эпоха [8500/10000], Loss: 0.0356\n",
            "Эпоха [8600/10000], Loss: 0.0353\n",
            "Эпоха [8700/10000], Loss: 0.0350\n",
            "Эпоха [8800/10000], Loss: 0.0347\n",
            "Эпоха [8900/10000], Loss: 0.0344\n",
            "Эпоха [9000/10000], Loss: 0.0341\n",
            "Эпоха [9100/10000], Loss: 0.0339\n",
            "Эпоха [9200/10000], Loss: 0.0336\n",
            "Эпоха [9300/10000], Loss: 0.0333\n",
            "Эпоха [9400/10000], Loss: 0.0330\n",
            "Эпоха [9500/10000], Loss: 0.0328\n",
            "Эпоха [9600/10000], Loss: 0.0325\n",
            "Эпоха [9700/10000], Loss: 0.0323\n",
            "Эпоха [9800/10000], Loss: 0.0320\n",
            "Эпоха [9900/10000], Loss: 0.0318\n",
            "Эпоха [10000/10000], Loss: 0.0315\n"
          ]
        }
      ],
      "source": [
        "# Обучение модели\n",
        "for epoch in range(epochs):\n",
        "    y_pred = model(x_new_train)  # Forward pass\n",
        "    loss = optim_func(y_pred, y_new_train)\n",
        "\n",
        "    loss.backward()  # Backward pass и оптимизация\n",
        "    optimizer.step()\n",
        "    optimizer.zero_grad()\n",
        "\n",
        "    # Выводим информацию о процессе обучения каждые 100 эпох\n",
        "    if (epoch + 1) % 100 == 0:\n",
        "        print(f'Эпоха [{epoch+1}/{epochs}], Loss: {loss.item():.4f}')"
      ]
    },
    {
      "cell_type": "markdown",
      "metadata": {
        "id": "9MO9FNUDRFSJ"
      },
      "source": [
        "Визуализируйте предсказания и посчитайте MSE на тестовой части данных."
      ]
    },
    {
      "cell_type": "markdown",
      "metadata": {},
      "source": [
        "**Предоброботка данных для тестового набора**"
      ]
    },
    {
      "cell_type": "code",
      "execution_count": 183,
      "metadata": {},
      "outputs": [],
      "source": [
        "X_tensor_test = torch.tensor(X_test, dtype=torch.float32)\n",
        "y_tensor_test = torch.tensor(y_test, dtype=torch.float32)\n",
        "\n",
        "x_new_test = X_tensor_test.reshape(-1, 1)\n",
        "y_new_test = y_tensor_test.reshape(-1, 1)"
      ]
    },
    {
      "cell_type": "code",
      "execution_count": 184,
      "metadata": {},
      "outputs": [],
      "source": [
        "# Проверка обученной модели на тестовой\n",
        "with torch.no_grad():\n",
        "    predicted = model(x_new_test).numpy()\n"
      ]
    },
    {
      "cell_type": "code",
      "execution_count": 185,
      "metadata": {},
      "outputs": [
        {
          "name": "stdout",
          "output_type": "stream",
          "text": [
            "Loss on Test Data: 0.029437908041831967\n"
          ]
        }
      ],
      "source": [
        "# Рассчитываем MSE\n",
        "mse_test = mean_squared_error(y_test, predicted)\n",
        "\n",
        "print(f'Loss on Test Data: {mse_test}')"
      ]
    },
    {
      "cell_type": "code",
      "execution_count": 186,
      "metadata": {
        "id": "EfKQSiGVRIxl"
      },
      "outputs": [
        {
          "data": {
            "image/png": "[encoded data removed]",
            "text/plain": [
              "<Figure size 640x480 with 1 Axes>"
            ]
          },
          "metadata": {},
          "output_type": "display_data"
        }
      ],
      "source": [
        "plt.scatter(X_test, y_test, label='Исходные данные')\n",
        "plt.scatter(X_test, predicted, label='Предсказания модели', alpha=0.3)\n",
        "plt.xlabel('X')\n",
        "plt.ylabel('y')\n",
        "plt.legend()\n",
        "plt.show()\n"
      ]
    },
    {
      "cell_type": "markdown",
      "metadata": {
        "id": "zPoMmyGgW2Q3"
      },
      "source": [
        "**Вывод:** Данная часть эксперимента показала, что нейронная сеть очень хорошо приближает данные. Однако так как у нас изначально они являются случайными величинами с нормальным распределением, можно на графике увидеть, что ближе к концам/\"краям\" функции нейронная сеть приближает хуже. Это может зависеть от количество эпох и так же из-за того что при нормальном распределении ближе к медиане распологаются большее количество данных, тем самым нейронной сети не хватает данных для обучения чтобы хорошо приблизить функцию около \"краёв\"."
      ]
    },
    {
      "cell_type": "markdown",
      "metadata": {
        "id": "RRw1Pk9ZM4Wn"
      },
      "source": [
        "---\n",
        "### <font color=\"orange\"><i>Сложная часть</i></font>"
      ]
    },
    {
      "cell_type": "markdown",
      "metadata": {
        "id": "EWHsMVWwW2Q2"
      },
      "source": [
        "---\n",
        "### Задача 3.\n",
        "\n",
        "Теперь реализуйте класс нейронной сети из задачи 1 в стиле scikit-learn, например, см. <a href=\"https://miptstats.github.io/courses/ad_fivt/task3.html#Задача-4.\" target=\"_blank\">шаблон класса задачи 4 из задания 3</a>. Предусмотрите возможность обучения по случайным батчам. При реализации можно использовать только библиотеку `numpy`."
      ]
    },
    {
      "cell_type": "code",
      "execution_count": 187,
      "metadata": {
        "id": "4tXV_LMcW2Q2"
      },
      "outputs": [],
      "source": [
        "class TwoLayerNeuralNetwork:\n",
        "    def __init__(self):       \n",
        "        # Инициализация весов\n",
        "        self.first_layer_weights = np.random.rand(2)\n",
        "        self.second_layer_weights = np.random.rand(2)\n",
        "        \n",
        "        # Инициализация смещений\n",
        "        self.first_layer_bias = np.random.rand((2))\n",
        "        self.second_layer_bias = np.random.rand()\n",
        "        \n",
        "    @staticmethod    \n",
        "    def sigmoid(x):\n",
        "        return 1 / (1 + np.exp(-x))\n",
        "    \n",
        "    def sigmoid_derivative(self, x):\n",
        "        return x * (1 - x)\n",
        "    \n",
        "    def forward(self, x):\n",
        "        self.first_layer_after_sigmoid = self.sigmoid((x.item() * self.first_layer_weights) + self.first_layer_bias)\n",
        "        return np.sum((self.first_layer_after_sigmoid* self.second_layer_weights)) + self.second_layer_bias\n",
        "\n",
        "\n",
        "    def predict(self, X):\n",
        "        return np.array([self.forward(x) for x in X])\n",
        "    \n",
        "    def backward(self, X, y, lr):\n",
        "        X = X.detach().numpy().flatten()\n",
        "        y = y.detach().numpy().flatten()\n",
        "        predict = self.predict(X)\n",
        "        \n",
        "        u = self.sigmoid(X[:, None] * self.first_layer_weights + self.first_layer_bias)\n",
        "        delta = 2 / X.shape[0] * (predict - y)\n",
        "    \n",
        "        # d(MSE)/dw_{2h}\n",
        "        dw2h = delta @ u\n",
        "        # d(MSE)/d_{b2h}\n",
        "        db2h = np.sum(delta)\n",
        "    \n",
        "        # d(MSE)/du_{h}\n",
        "        duh = db2h * self.second_layer_weights\n",
        "\n",
        "        # du/dw_{1h}\n",
        "        du_dw_1h = X[:, None] * self.sigmoid_derivative(u)\n",
        "        # du/db_{1h}\n",
        "        du_db_1h = self.sigmoid_derivative(u)\n",
        "        # d(MSE)/dw1h\n",
        "        dw1h = np.sum(du_dw_1h * delta[:, np.newaxis], axis=0) * self.second_layer_weights\n",
        "                            \n",
        "        #d(MSE)/db1h\n",
        "        db1h = np.sum(du_db_1h * delta[:, np.newaxis], axis=0) * self.second_layer_weights\n",
        "\n",
        "        self.second_layer_bias -= db2h * lr\n",
        "        self.first_layer_bias -= db1h * lr\n",
        "        self.first_layer_weights -= dw1h * lr\n",
        "        self.second_layer_weights -= dw2h * lr\n",
        "     \n",
        "        \n",
        "    def train(self, X, y, epochs, batch_size, lr):\n",
        "        for epoch in range(epochs):\n",
        "            indices = np.random.permutation(len(X))\n",
        "            X_shuffled = X[indices]\n",
        "            y_shuffled = y[indices]\n",
        "            for i in range(0, len(X_shuffled), batch_size):\n",
        "                X_batch = X_shuffled[i:i+batch_size]\n",
        "                y_batch = y_shuffled[i:i+batch_size]\n",
        "\n",
        "                # Обратный проход и обновление весов\n",
        "                self.backward(X_batch, y_batch, lr)\n",
        "\n",
        "            # Вычисление и выводим информацию о процессе обучения каждые 100 эпох\n",
        "            if (epoch + 1) % 100 == 0:\n",
        "                loss = np.mean(np.square(y - self.forward(X)))\n",
        "                print(f'Эпоха {epoch + 1}/{epochs}, Loss: {loss}')"
      ]
    },
    {
      "cell_type": "markdown",
      "metadata": {
        "id": "iLvOp4K8W2Q3"
      },
      "source": [
        "Обучите нейронную сеть на рассмотренных ранее данных, а также простую линейную регрессию. Для линейной регрессии стоит взять реализацию из `sklearn`. Сравните эту нейросеть, линейную регрессию и pytorch-сеть из задачи 2."
      ]
    },
    {
      "cell_type": "code",
      "execution_count": 188,
      "metadata": {
        "id": "Mitew_VaW2Q3"
      },
      "outputs": [],
      "source": [
        "# Создаем экземпляр нейронной сети\n",
        "two_layer_my_network = TwoLayerNeuralNetwork()\n",
        "linear_regression_model = LinearRegression()\n",
        "\n",
        "# Обучение нейронной сети (кастомного класса)\n",
        "two_layer_my_network.train(x_new_train, y_new_train, epochs=1, batch_size=64, lr=learning_rate)\n",
        "\n",
        "# Обучение линейной регрессии\n",
        "linear_regression_model.fit(x_new_train, y_new_train)\n",
        "\n",
        "# Предсказания для тестовой выборки\n",
        "y_pred_custom = two_layer_my_network.predict(x_new_test)\n",
        "y_pred_linear = linear_regression_model.predict(x_new_test)\n",
        "\n"
      ]
    },
    {
      "cell_type": "markdown",
      "metadata": {
        "id": "6NmNpWkPW2Q3"
      },
      "source": [
        "Визуализируйте предсказания данных моделей и посчитайте MSE на тестовой части данных."
      ]
    },
    {
      "cell_type": "code",
      "execution_count": 189,
      "metadata": {
        "id": "r2OEQK6JW2Q3"
      },
      "outputs": [
        {
          "name": "stdout",
          "output_type": "stream",
          "text": [
            "Loss for Custom Neural Network: 0.03466544883808688\n",
            "Loss for Linear Regression: 1.9695556163787842\n"
          ]
        }
      ],
      "source": [
        "# Оценка потерь на тестовой выборке\n",
        "loss_custom = np.mean(np.square(y_test - y_pred_custom))\n",
        "loss_linear = mean_squared_error(linear_regression_model.predict(x_new_test), y_new_test)\n",
        "\n",
        "print(f'Loss for Custom Neural Network: {loss_custom}')\n",
        "print(f'Loss for Linear Regression: {loss_linear}')"
      ]
    },
    {
      "cell_type": "code",
      "execution_count": 190,
      "metadata": {},
      "outputs": [
        {
          "data": {
            "image/png": "[encoded data removed]",
            "text/plain": [
              "<Figure size 640x480 with 1 Axes>"
            ]
          },
          "metadata": {},
          "output_type": "display_data"
        }
      ],
      "source": [
        "# Визуализация предсказаний\n",
        "plt.scatter(x_new_test, y_test, label='True Data')\n",
        "plt.scatter(x_new_test, y_pred_custom, label='Custom NN', marker='x', alpha=0.3)\n",
        "plt.scatter(x_new_test, y_pred_linear, label='Linear Regression', marker='o', alpha=0.3)\n",
        "plt.legend()\n",
        "plt.xlabel('X')\n",
        "plt.ylabel('Y')\n",
        "plt.show()"
      ]
    },
    {
      "cell_type": "markdown",
      "metadata": {
        "id": "j-_6rkdkW2Q3"
      },
      "source": [
        "Повторите вычисления для другой нелинейной функции $y(x)$."
      ]
    },
    {
      "cell_type": "code",
      "execution_count": 191,
      "metadata": {
        "id": "1GJuV0dfW2Q3"
      },
      "outputs": [],
      "source": [
        "new_sample_size = int(1e6)  # генерируем новые данные\n",
        "new_X = sps.norm.rvs(size=(new_sample_size, 1))\n",
        "# используем куб, используем squeeze чтобы сделать у 1 мерным\n",
        "new_y = np.squeeze((new_X * new_X * new_X))\n",
        "\n",
        "# Разделяем данные на тренировочную и тестовую выборки\n",
        "new_X_train, new_X_test, new_y_train, new_y_test = train_test_split(new_X, new_y, test_size=0.3, random_state=19)"
      ]
    },
    {
      "cell_type": "markdown",
      "metadata": {},
      "source": [
        " **Предобработка данных**"
      ]
    },
    {
      "cell_type": "code",
      "execution_count": 192,
      "metadata": {},
      "outputs": [],
      "source": [
        "# Преобразование в тензоры PyTorch\n",
        "new_X_tensor_train = torch.tensor(new_X_train, dtype=torch.float32)\n",
        "new_y_tensor_train = torch.tensor(new_y_train, dtype=torch.float32)\n",
        "\n",
        "new_x_new_train = new_X_tensor_train.reshape(-1, 1)\n",
        "new_y_new_train = new_y_tensor_train.reshape(-1, 1)\n",
        "\n",
        "new_X_tensor_test = torch.tensor(new_X_test, dtype=torch.float32)\n",
        "new_y_tensor_test = torch.tensor(new_y_test, dtype=torch.float32)\n",
        "\n",
        "new_x_new_test = new_X_tensor_test.reshape(-1, 1)\n",
        "new_y_new_test = new_y_tensor_test.reshape(-1, 1)"
      ]
    },
    {
      "cell_type": "code",
      "execution_count": 193,
      "metadata": {},
      "outputs": [],
      "source": [
        "# Гиперпараметры\n",
        "new_learning_rate = 0.05\n",
        "new_epochs = 10000"
      ]
    },
    {
      "cell_type": "code",
      "execution_count": 194,
      "metadata": {},
      "outputs": [],
      "source": [
        "# Создание модели и оптимизатора\n",
        "new_model = TwoLayerNN()\n",
        "new_optim_func = nn.MSELoss()\n",
        "new_optimizer = optim.SGD(new_model.parameters(), lr=new_learning_rate)"
      ]
    },
    {
      "cell_type": "markdown",
      "metadata": {},
      "source": [
        "**Обучение модели**"
      ]
    },
    {
      "cell_type": "code",
      "execution_count": 195,
      "metadata": {},
      "outputs": [
        {
          "name": "stdout",
          "output_type": "stream",
          "text": [
            "Эпоха [100/10000], Loss: 9.3796\n",
            "Эпоха [200/10000], Loss: 8.1225\n",
            "Эпоха [300/10000], Loss: 6.7830\n",
            "Эпоха [400/10000], Loss: 5.2822\n",
            "Эпоха [500/10000], Loss: 4.2956\n",
            "Эпоха [600/10000], Loss: 3.6500\n",
            "Эпоха [700/10000], Loss: 3.1998\n",
            "Эпоха [800/10000], Loss: 2.8692\n",
            "Эпоха [900/10000], Loss: 2.6160\n",
            "Эпоха [1000/10000], Loss: 2.4153\n",
            "Эпоха [1100/10000], Loss: 2.2514\n",
            "Эпоха [1200/10000], Loss: 2.1143\n",
            "Эпоха [1300/10000], Loss: 1.9972\n",
            "Эпоха [1400/10000], Loss: 1.8955\n",
            "Эпоха [1500/10000], Loss: 1.8060\n",
            "Эпоха [1600/10000], Loss: 1.7262\n",
            "Эпоха [1700/10000], Loss: 1.6545\n",
            "Эпоха [1800/10000], Loss: 1.5896\n",
            "Эпоха [1900/10000], Loss: 1.5304\n",
            "Эпоха [2000/10000], Loss: 1.4763\n",
            "Эпоха [2100/10000], Loss: 1.4264\n",
            "Эпоха [2200/10000], Loss: 1.3804\n",
            "Эпоха [2300/10000], Loss: 1.3377\n",
            "Эпоха [2400/10000], Loss: 1.2980\n",
            "Эпоха [2500/10000], Loss: 1.2610\n",
            "Эпоха [2600/10000], Loss: 1.2264\n",
            "Эпоха [2700/10000], Loss: 1.1940\n",
            "Эпоха [2800/10000], Loss: 1.1635\n",
            "Эпоха [2900/10000], Loss: 1.1348\n",
            "Эпоха [3000/10000], Loss: 1.1078\n",
            "Эпоха [3100/10000], Loss: 1.0822\n",
            "Эпоха [3200/10000], Loss: 1.0579\n",
            "Эпоха [3300/10000], Loss: 1.0349\n",
            "Эпоха [3400/10000], Loss: 1.0131\n",
            "Эпоха [3500/10000], Loss: 0.9923\n",
            "Эпоха [3600/10000], Loss: 0.9725\n",
            "Эпоха [3700/10000], Loss: 0.9536\n",
            "Эпоха [3800/10000], Loss: 0.9356\n",
            "Эпоха [3900/10000], Loss: 0.9183\n",
            "Эпоха [4000/10000], Loss: 0.9018\n",
            "Эпоха [4100/10000], Loss: 0.8860\n",
            "Эпоха [4200/10000], Loss: 0.8708\n",
            "Эпоха [4300/10000], Loss: 0.8562\n",
            "Эпоха [4400/10000], Loss: 0.8422\n",
            "Эпоха [4500/10000], Loss: 0.8287\n",
            "Эпоха [4600/10000], Loss: 0.8157\n",
            "Эпоха [4700/10000], Loss: 0.8032\n",
            "Эпоха [4800/10000], Loss: 0.7912\n",
            "Эпоха [4900/10000], Loss: 0.7795\n",
            "Эпоха [5000/10000], Loss: 0.7683\n",
            "Эпоха [5100/10000], Loss: 0.7575\n",
            "Эпоха [5200/10000], Loss: 0.7470\n",
            "Эпоха [5300/10000], Loss: 0.7368\n",
            "Эпоха [5400/10000], Loss: 0.7270\n",
            "Эпоха [5500/10000], Loss: 0.7174\n",
            "Эпоха [5600/10000], Loss: 0.7082\n",
            "Эпоха [5700/10000], Loss: 0.6993\n",
            "Эпоха [5800/10000], Loss: 0.6906\n",
            "Эпоха [5900/10000], Loss: 0.6821\n",
            "Эпоха [6000/10000], Loss: 0.6740\n",
            "Эпоха [6100/10000], Loss: 0.6660\n",
            "Эпоха [6200/10000], Loss: 0.6583\n",
            "Эпоха [6300/10000], Loss: 0.6508\n",
            "Эпоха [6400/10000], Loss: 0.6434\n",
            "Эпоха [6500/10000], Loss: 0.6363\n",
            "Эпоха [6600/10000], Loss: 0.6294\n",
            "Эпоха [6700/10000], Loss: 0.6226\n",
            "Эпоха [6800/10000], Loss: 0.6160\n",
            "Эпоха [6900/10000], Loss: 0.6096\n",
            "Эпоха [7000/10000], Loss: 0.6034\n",
            "Эпоха [7100/10000], Loss: 0.5973\n",
            "Эпоха [7200/10000], Loss: 0.5913\n",
            "Эпоха [7300/10000], Loss: 0.5855\n",
            "Эпоха [7400/10000], Loss: 0.5798\n",
            "Эпоха [7500/10000], Loss: 0.5743\n",
            "Эпоха [7600/10000], Loss: 0.5689\n",
            "Эпоха [7700/10000], Loss: 0.5636\n",
            "Эпоха [7800/10000], Loss: 0.5584\n",
            "Эпоха [7900/10000], Loss: 0.5534\n",
            "Эпоха [8000/10000], Loss: 0.5484\n",
            "Эпоха [8100/10000], Loss: 0.5436\n",
            "Эпоха [8200/10000], Loss: 0.5388\n",
            "Эпоха [8300/10000], Loss: 0.5342\n",
            "Эпоха [8400/10000], Loss: 0.5297\n",
            "Эпоха [8500/10000], Loss: 0.5252\n",
            "Эпоха [8600/10000], Loss: 0.5209\n",
            "Эпоха [8700/10000], Loss: 0.5166\n",
            "Эпоха [8800/10000], Loss: 0.5124\n",
            "Эпоха [8900/10000], Loss: 0.5083\n",
            "Эпоха [9000/10000], Loss: 0.5043\n",
            "Эпоха [9100/10000], Loss: 0.5004\n",
            "Эпоха [9200/10000], Loss: 0.4965\n",
            "Эпоха [9300/10000], Loss: 0.4927\n",
            "Эпоха [9400/10000], Loss: 0.4890\n",
            "Эпоха [9500/10000], Loss: 0.4853\n",
            "Эпоха [9600/10000], Loss: 0.4817\n",
            "Эпоха [9700/10000], Loss: 0.4782\n",
            "Эпоха [9800/10000], Loss: 0.4748\n",
            "Эпоха [9900/10000], Loss: 0.4714\n",
            "Эпоха [10000/10000], Loss: 0.4680\n"
          ]
        }
      ],
      "source": [
        "for epoch in range(new_epochs):\n",
        "    new_y_pred = new_model(new_x_new_train)  # Forward pass\n",
        "    new_loss = new_optim_func(new_y_pred, new_y_new_train)\n",
        "\n",
        "    new_loss.backward()  # Backward pass и оптимизация\n",
        "    new_optimizer.step()\n",
        "    new_optimizer.zero_grad()\n",
        "\n",
        "    # Выводим информацию о процессе обучения каждые 100 эпох\n",
        "    if (epoch + 1) % 100 == 0:\n",
        "        print(f'Эпоха [{epoch+1}/{new_epochs}], Loss: {new_loss.item():.4f}')"
      ]
    },
    {
      "cell_type": "markdown",
      "metadata": {},
      "source": [
        "**Обучение кастомной через numpy и линейной регрессии**"
      ]
    },
    {
      "cell_type": "code",
      "execution_count": 196,
      "metadata": {},
      "outputs": [],
      "source": [
        "# Создаем экземпляр нейронной сети\n",
        "new_two_layer_my_network = TwoLayerNeuralNetwork()\n",
        "new_linear_regression_model = LinearRegression()\n",
        "\n",
        "# Обучение нейронной сети (кастомного класса)\n",
        "new_two_layer_my_network.train(new_x_new_train, new_y_new_train, epochs=1, batch_size=64, lr=new_learning_rate)\n",
        "\n",
        "# Обучение линейной регрессии\n",
        "new_linear_regression_model.fit(new_x_new_train, new_y_new_train)\n",
        "\n",
        "# Предсказания для тестовой выборки\n",
        "new_y_pred_custom = new_two_layer_my_network.predict(new_x_new_test)\n",
        "new_y_pred_linear = new_linear_regression_model.predict(new_x_new_test)"
      ]
    },
    {
      "cell_type": "code",
      "execution_count": 197,
      "metadata": {},
      "outputs": [],
      "source": [
        "# Проверка обученной модели на тестовой\n",
        "with torch.no_grad():\n",
        "    new_predicted = new_model(new_x_new_test).numpy()"
      ]
    },
    {
      "cell_type": "markdown",
      "metadata": {},
      "source": [
        "**Оценка на тестовой выборке**"
      ]
    },
    {
      "cell_type": "code",
      "execution_count": 198,
      "metadata": {},
      "outputs": [
        {
          "name": "stdout",
          "output_type": "stream",
          "text": [
            "Loss on Test Data: 0.4529729952139228\n",
            "Loss for Custom Neural Network: 0.767386481181167\n",
            "Loss for Linear Regression: 6.094091415405273\n"
          ]
        }
      ],
      "source": [
        "new_mse_test = mean_squared_error(new_y_test, new_predicted)\n",
        "new_loss_custom = np.mean(np.square(new_y_test - new_y_pred_custom))\n",
        "new_loss_linear = mean_squared_error(new_y_pred_linear, new_y_new_test)\n",
        "\n",
        "print(f'Loss on Test Data: {new_mse_test}')\n",
        "print(f'Loss for Custom Neural Network: {new_loss_custom}')\n",
        "print(f'Loss for Linear Regression: {new_loss_linear}')"
      ]
    },
    {
      "cell_type": "markdown",
      "metadata": {},
      "source": [
        "**Рисуем графики**"
      ]
    },
    {
      "cell_type": "code",
      "execution_count": 199,
      "metadata": {},
      "outputs": [
        {
          "data": {
            "image/png": "[encoded data removed]",
            "text/plain": [
              "<Figure size 1000x700 with 1 Axes>"
            ]
          },
          "metadata": {},
          "output_type": "display_data"
        }
      ],
      "source": [
        "plt.figure(figsize=(10, 7))\n",
        "plt.scatter(new_x_new_test, new_y_test, label='True Data', s=11)\n",
        "plt.scatter(new_x_new_test, new_y_pred_custom, label='Custom NN', marker='x', alpha=0.3, s=11)\n",
        "plt.scatter(new_x_new_test, new_y_pred_linear, label='Linear Regression', marker='o', alpha=0.3, s=11)\n",
        "plt.scatter(new_x_new_test, new_predicted, label='Pytorch model', alpha=0.3, s=11)\n",
        "plt.legend()\n",
        "plt.xlabel('X')\n",
        "plt.ylabel('Y')\n",
        "plt.show()"
      ]
    },
    {
      "cell_type": "markdown",
      "metadata": {
        "id": "CtVD-MTtW2Q4"
      },
      "source": [
        "**Вывод:** В данной части эксперимента:\n",
        " 1. Мы смогли написать свою примитивную нейронную сеть\n",
        " 2. Поняли как работает метод обратного распространения\n",
        " 3. Сравнили нейронную сеть из PyTorch, кастомную написанную с помощью numpy и линейную регрессию. Можно заметить, что линейная регрессия на нелинейных функциях приближает очень не точно, в отличии от нейронок. Из графика выше можно сделать вывод, что между нейронными сетьями реализованными с помощью PyTorch и numpy в качестве предсказании небольшая разница (первая возле \"краёв\" функции предсказывает чуть точнее чем numpy). Это может быть связано с тем, что библиотека PyTorch лучше справляется с нейронными сетями.\n",
        "\n",
        " Общий вывод: нейронные сети круто умеют предсказывать при достаточном обучении, но само обучение требует много времени и данных"
      ]
    }
  ],
  "metadata": {
    "colab": {
      "provenance": []
    },
    "kernelspec": {
      "display_name": "Python 3",
      "language": "python",
      "name": "python3"
    },
    "language_info": {
      "codemirror_mode": {
        "name": "ipython",
        "version": 3
      },
      "file_extension": ".py",
      "mimetype": "text/x-python",
      "name": "python",
      "nbconvert_exporter": "python",
      "pygments_lexer": "ipython3",
      "version": "3.10.12"
    }
  },
  "nbformat": 4,
  "nbformat_minor": 0
}
